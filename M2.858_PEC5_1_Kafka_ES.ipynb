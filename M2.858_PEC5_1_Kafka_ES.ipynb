{
 "cells": [
  {
   "cell_type": "markdown",
   "metadata": {},
   "source": [
    "Before you turn this problem in, make sure everything runs as expected. First, **restart the kernel** (in the menubar, select Kernel$\\rightarrow$Restart) and then **run all cells** (in the menubar, select Cell$\\rightarrow$Run All).\n",
    "\n",
    "Make sure you fill in any place that says `YOUR CODE HERE` or \"YOUR ANSWER HERE\", as well as your name and collaborators below:"
   ]
  },
  {
   "cell_type": "code",
   "execution_count": null,
   "metadata": {},
   "outputs": [],
   "source": [
    "NAME = \"Francisco Javier Morales Hidalgo\"\n",
    "COLLABORATORS = \"\""
   ]
  },
  {
   "cell_type": "markdown",
   "metadata": {},
   "source": [
    "---"
   ]
  },
  {
   "cell_type": "markdown",
   "metadata": {
    "deletable": false,
    "editable": false,
    "nbgrader": {
     "cell_type": "markdown",
     "checksum": "2217027805428964e2cf6a1d6ccaccea",
     "grade": false,
     "grade_id": "intro_1",
     "locked": true,
     "schema_version": 3,
     "solution": false,
     "task": false
    }
   },
   "source": [
    "![Spark Logo](https://kafka.apache.org/logos/kafka_logo--simple.png) "
   ]
  },
  {
   "cell_type": "markdown",
   "metadata": {
    "deletable": false,
    "editable": false,
    "nbgrader": {
     "cell_type": "markdown",
     "checksum": "98c73b0e8ab146b58f94d21f44cc4d84",
     "grade": false,
     "grade_id": "intro_2",
     "locked": true,
     "schema_version": 3,
     "solution": false,
     "task": false
    }
   },
   "source": [
    "# PEC5_1: Captura de información en streaming mediante Kafka"
   ]
  },
  {
   "cell_type": "markdown",
   "metadata": {
    "deletable": false,
    "editable": false,
    "nbgrader": {
     "cell_type": "markdown",
     "checksum": "6943829d7661d5affb2b2154bcabda37",
     "grade": false,
     "grade_id": "intro_3",
     "locked": true,
     "schema_version": 3,
     "solution": false,
     "task": false
    }
   },
   "source": [
    "[Kafka](https://kafka.apache.org) es una plataforma distribuida para gestionar eventos en streaming, que nos permite leer, escribir y procesar eventos (records o messages segun Kafka) distribuidos en un clúster. En esta PEC vamos a trabajar esta tecnología."
   ]
  },
  {
   "cell_type": "markdown",
   "metadata": {
    "deletable": false,
    "editable": false,
    "nbgrader": {
     "cell_type": "markdown",
     "checksum": "1bce5335161fc470474354f9942df771",
     "grade": false,
     "grade_id": "intro_task_1",
     "locked": true,
     "schema_version": 3,
     "solution": false,
     "task": false
    }
   },
   "source": [
    "Vamos a empezar creando un topic denominado `PEC5<usuario>` en Kafka en nuestro cluster (debéis substituir usuario por vuestro login). Un topic es una colección ordenada de eventos que está almacenada de manera pesistente, habitualmente en disco y de manera replicada. Kafka trata cada topic en cada partición como un log (un conjunto ordenado de mensajes). Cada mensaje en una partición tiene asigando un único offset y estos mensajes tienen un periodo de retención por defecto de los mensajes en un topic es de 7 dias (604,800,000 ms), pero es posible cambiarlo en el momento de la creación del topic.\n",
    "\n",
    "Kafka trabaja en base al [Zookeeper](https://zookeeper.apache.org) que se encarga de la gestión de clústeres con la finalidad de proporcionar un servicio de coordinación para aplicaciones distribuidas, se encuentra en el propio servidor al que conectais, es decir en *localhost* y su puerto es el 2181. Los brokers de Kafka son *Cloudera02 y Cloudera03* y estan accesibles en el puerto habitual 9092\n",
    "\n",
    "**IMPORTANTE: Por cuestiones de organización y de estabilidad del servidor, es importante que no creeis ningun topic diferente al que se ha pedido, con vustro login, cualquier otro topic será borrado y en caso necesario el usuario será deshabilitado del sistema** \n",
    "\n",
    "**IMPORTANTE: Para realizar esta práctica debes hacerlo mediante SSH desde terminal o VSCODE, y solamente adjuntar el codigo resultante en este mismo NOTEBOOK.**"
   ]
  },
  {
   "cell_type": "markdown",
   "metadata": {
    "deletable": false,
    "editable": false,
    "nbgrader": {
     "cell_type": "markdown",
     "checksum": "e4d7ce3079e39a5071a552eed16f3814",
     "grade": false,
     "grade_id": "task_1",
     "locked": true,
     "schema_version": 3,
     "solution": false,
     "task": false
    }
   },
   "source": [
    "> **Pregunta 1. (1 punto)** \n",
    "crea un topic denominado `PEC5<usuario>` en Kafka en nuestro cluster, con un factor de replicación de 1 y una única partición, es decir vamos a utilizar un solo nodo para almacenar los mensajes que recepciona Kafka. Además vamos a especificar que los mensajes solo esten almacenados 2h en el topic."
   ]
  },
  {
   "cell_type": "code",
   "execution_count": null,
   "metadata": {
    "deletable": false,
    "nbgrader": {
     "cell_type": "code",
     "checksum": "9e80982c24174c5abbd298c1dd557bac",
     "grade": true,
     "grade_id": "answer_1",
     "locked": false,
     "points": 1,
     "schema_version": 3,
     "solution": true,
     "task": false
    }
   },
   "outputs": [],
   "source": [
    "# YOUR CODE HERE\n",
    "kafka-topics --create --zookeeper Cloudera01:2181/kafka --topic PEC5fmoralesh --partitions 1 --replication-factor 1 --config retention.ms=7200000"
   ]
  },
  {
   "cell_type": "markdown",
   "metadata": {
    "deletable": false,
    "editable": false,
    "nbgrader": {
     "cell_type": "markdown",
     "checksum": "3fec3b6ae2535aca01ed8a0000afbc28",
     "grade": false,
     "grade_id": "task_2",
     "locked": true,
     "schema_version": 3,
     "solution": false,
     "task": false
    }
   },
   "source": [
    "> **Pregunta 2. (1 punto)** consulta el *topic* que acabas de crear y muestralo"
   ]
  },
  {
   "cell_type": "code",
   "execution_count": null,
   "metadata": {
    "deletable": false,
    "nbgrader": {
     "cell_type": "code",
     "checksum": "e7810916eae61f4daadf7b17072527a3",
     "grade": true,
     "grade_id": "answer_2",
     "locked": false,
     "points": 1,
     "schema_version": 3,
     "solution": true,
     "task": false
    }
   },
   "outputs": [],
   "source": [
    "# YOUR CODE HERE\n",
    "kafka-topics --list --zookeeper Cloudera01:2181/kafka --topic PEC5fmoralesh"
   ]
  },
  {
   "cell_type": "markdown",
   "metadata": {
    "deletable": false,
    "editable": false,
    "nbgrader": {
     "cell_type": "markdown",
     "checksum": "00d33279726d087b3d2c5d1bd207a9c4",
     "grade": false,
     "grade_id": "task_3",
     "locked": true,
     "schema_version": 3,
     "solution": false,
     "task": false
    }
   },
   "source": [
    "> **Pregunta 3. (1 punto)**. Borra el topic que acabas de crear."
   ]
  },
  {
   "cell_type": "code",
   "execution_count": null,
   "metadata": {
    "deletable": false,
    "nbgrader": {
     "cell_type": "code",
     "checksum": "fe599cafec3a0143d9940867c9c4bf10",
     "grade": true,
     "grade_id": "answer_3",
     "locked": false,
     "points": 1,
     "schema_version": 3,
     "solution": true,
     "task": false
    }
   },
   "outputs": [],
   "source": [
    "# YOUR CODE HERE\n",
    "kafka-topics --delete --zookeeper Cloudera01:2181/kafka --topic PEC5fmoralesh"
   ]
  },
  {
   "cell_type": "markdown",
   "metadata": {
    "deletable": false,
    "editable": false,
    "nbgrader": {
     "cell_type": "markdown",
     "checksum": "878e8bafba5ea14af6170870f53cb7b1",
     "grade": false,
     "grade_id": "task_4",
     "locked": true,
     "schema_version": 3,
     "solution": false,
     "task": false
    }
   },
   "source": [
    ">**Pregunta 4. (1 punto)**. Mostramos la información detallada del topic que hemos creado. "
   ]
  },
  {
   "cell_type": "code",
   "execution_count": null,
   "metadata": {
    "deletable": false,
    "nbgrader": {
     "cell_type": "code",
     "checksum": "2f8fd5db46d9ddbc99b3ef77547b07a7",
     "grade": true,
     "grade_id": "answer_4_1",
     "locked": false,
     "points": 0.5,
     "schema_version": 3,
     "solution": true,
     "task": false
    }
   },
   "outputs": [],
   "source": [
    "# YOUR CODE HERE\n",
    "kafka-topics --describe --zookeeper Cloudera01:2181/kafka --topic PEC5fmoralesh"
   ]
  },
  {
   "cell_type": "markdown",
   "metadata": {
    "deletable": false,
    "editable": false,
    "nbgrader": {
     "cell_type": "markdown",
     "checksum": "21117a3404782d2e1c636b16a0a28641",
     "grade": false,
     "grade_id": "cell-f2e2d62dc7d02de6",
     "locked": true,
     "schema_version": 3,
     "solution": false,
     "task": false
    }
   },
   "source": [
    "Observa detalladamente la información que muestra y coméntala."
   ]
  },
  {
   "cell_type": "code",
   "execution_count": null,
   "metadata": {
    "deletable": false,
    "nbgrader": {
     "cell_type": "code",
     "checksum": "2fe4df0908fddbbba9da8ddcffbcf7d2",
     "grade": true,
     "grade_id": "answer_4_2",
     "locked": false,
     "points": 0.5,
     "schema_version": 3,
     "solution": true,
     "task": false
    }
   },
   "outputs": [],
   "source": [
    "# YOUR CODE HERE\n",
    "Muestra los parámetros que hemos especificado al crear. Factor de replicación 1, una partición y que almacene los mensajes 2 h.\n",
    "Además vemos los parámetros:\n",
    "* Leader indica que la instancia 95 es la encargada de todas las lecturas y escrituras de la partición,\n",
    "* Replicas que indica que la instancia 95 también actua como nodo réplica.\n",
    "* Isr que indica que la instancia 95 actua como nodo réplica in-sync"
   ]
  },
  {
   "cell_type": "markdown",
   "metadata": {
    "deletable": false,
    "editable": false,
    "nbgrader": {
     "cell_type": "markdown",
     "checksum": "8814cb990ef829d616bf8c086acc586d",
     "grade": false,
     "grade_id": "cell-0faf6fc3d18bae2a",
     "locked": true,
     "schema_version": 3,
     "solution": false,
     "task": false
    }
   },
   "source": [
    "> **Pregunta 5. (1 punto)** Vamos a crear un evento en el topic, recuerda que como el resto de la PEC, esta sentencia la debemos ejecutar desde terminal para poder interactuar. Recuerda de realizar `CTRL+c` cuando hayas finalizado de enviar mensajes."
   ]
  },
  {
   "cell_type": "code",
   "execution_count": null,
   "metadata": {
    "deletable": false,
    "nbgrader": {
     "cell_type": "code",
     "checksum": "f02c9d71b9283ced672dfe787980fb26",
     "grade": true,
     "grade_id": "answer_5",
     "locked": false,
     "points": 1,
     "schema_version": 3,
     "solution": true,
     "task": false
    }
   },
   "outputs": [],
   "source": [
    "# YOUR CODE HERE\n",
    "kafka-console-producer --broker-list Cloudera02:9092 --topic PEC5fmoralesh"
   ]
  },
  {
   "cell_type": "markdown",
   "metadata": {
    "deletable": false,
    "editable": false,
    "nbgrader": {
     "cell_type": "markdown",
     "checksum": "21476c39ccff02a05c4347fb8d355b4d",
     "grade": false,
     "grade_id": "cell-4a05766a4f842a3b",
     "locked": true,
     "schema_version": 3,
     "solution": false,
     "task": false
    }
   },
   "source": [
    "> **Pregunta 6. (1 punto)** Finalmente se pide consultar por el terminal mediante el programa consumidor de *topics* que incorpora Kafka. Ejecutamos un consumidor conectando a los diversos brokers existentes e indicando el topic y la partición a la que se han enviado. Puedes abrir dos terminales y verificar que los mensajes que se envian con el productor al broker, los podemos consultar con el consumidor de consola que incorpora Kafka."
   ]
  },
  {
   "cell_type": "code",
   "execution_count": null,
   "metadata": {
    "deletable": false,
    "nbgrader": {
     "cell_type": "code",
     "checksum": "5b6d1eadd2cf9a62f71556cecba9629a",
     "grade": true,
     "grade_id": "answer_6",
     "locked": false,
     "points": 1,
     "schema_version": 3,
     "solution": true,
     "task": false
    }
   },
   "outputs": [],
   "source": [
    "# YOUR CODE HERE\n",
    "kafka-console-consumer --bootstrap-server Cloudera02:9092 --from-beginning --topic PEC5fmoralesh --partition 0"
   ]
  }
 ],
 "metadata": {
  "kernelspec": {
   "display_name": "Python 3",
   "language": "python",
   "name": "python3"
  },
  "language_info": {
   "codemirror_mode": {
    "name": "ipython",
    "version": 3
   },
   "file_extension": ".py",
   "mimetype": "text/x-python",
   "name": "python",
   "nbconvert_exporter": "python",
   "pygments_lexer": "ipython3",
   "version": "3.5.2"
  }
 },
 "nbformat": 4,
 "nbformat_minor": 4
}
